{
  "cells": [
    {
      "cell_type": "markdown",
      "metadata": {
        "id": "view-in-github",
        "colab_type": "text"
      },
      "source": [
        "<a href=\"https://colab.research.google.com/github/sakib927/My-Data-Science/blob/main/tea_sickness.ipynb\" target=\"_parent\"><img src=\"https://colab.research.google.com/assets/colab-badge.svg\" alt=\"Open In Colab\"/></a>"
      ]
    },
    {
      "cell_type": "code",
      "execution_count": null,
      "metadata": {
        "id": "JPDy60jb2v1S"
      },
      "outputs": [],
      "source": [
        "from keras.models import Sequential"
      ]
    },
    {
      "cell_type": "code",
      "execution_count": null,
      "metadata": {
        "id": "I4owWaqZC-iw"
      },
      "outputs": [],
      "source": [
        "import tensorflow as tf\n",
        "\n",
        "import tensorflow_datasets as tfds\n"
      ]
    },
    {
      "cell_type": "code",
      "execution_count": null,
      "metadata": {
        "id": "0IgPL9WEDffZ"
      },
      "outputs": [],
      "source": [
        "from keras.layers.core import Dense, Activation, Dropout, Flatten\n",
        "from keras.layers.convolutional import Convolution2D, MaxPooling2D\n",
        "#from keras.optimizers import  RMSprop, adam\n",
        "from tensorflow.keras.optimizers import SGD,RMSprop,Adam\n",
        "from keras.utils import np_utils\n",
        "from sklearn.tree import DecisionTreeClassifier # Import Decision Tree Classifier\n",
        "from sklearn import metrics \n",
        "from sklearn.utils import shuffle\n",
        "from sklearn.model_selection import train_test_split\n",
        "import matplotlib.image as mpimg\n",
        "import matplotlib.pyplot as plt\n",
        "import numpy as np\n",
        "import os\n",
        "import cv2\n",
        "import random\n",
        "from numpy import *\n",
        "from PIL import Image\n",
        "import theano\n",
        "from tqdm import tqdm \n",
        "from skimage import io"
      ]
    },
    {
      "cell_type": "code",
      "execution_count": null,
      "metadata": {
        "id": "iy_zvMVIEx_P"
      },
      "outputs": [],
      "source": [
        "path_test = \"/content/drive/MyDrive/tea sickness dataset\"\n",
        "class_names = ['Anthracnose','algal leaf','bird eye spot','brown blight','gray light','healthy','red leaf spot','white leaf spot']\n",
        "nb_classes = len(class_names)\n",
        "image_size = (120,120)"
      ]
    },
    {
      "cell_type": "code",
      "execution_count": null,
      "metadata": {
        "id": "KAAnkQsEGzdc"
      },
      "outputs": [],
      "source": [
        "def load_data():\n",
        "    \n",
        "    datasets = ['/content/drive/MyDrive/tea sickness dataset']\n",
        "    images = []\n",
        "    labels = []\n",
        "\n",
        "    # iterate through training and test sets\n",
        "    count =0\n",
        "    for dataset in datasets:\n",
        "\n",
        "        # iterate through folders in each dataset\n",
        "        for folder in os.listdir(dataset):\n",
        "\n",
        "            if folder in ['Anthracnose']: label = 1\n",
        "            elif folder in ['algal leaf']: label = 2\n",
        "            elif folder in ['bird eye spot']: label = 3\n",
        "            elif folder in ['brown blight']: label = 4\n",
        "            elif folder in ['gray light']: label = 5\n",
        "            elif folder in ['healthy']: label = 6\n",
        "            elif folder in ['red leaf spot']: label = 7\n",
        "            elif folder in ['white spot']: label = 8\n",
        "            else : print(700)\n",
        "\n",
        "\n",
        "            # iterate through each image in folder\n",
        "            for file in tqdm(os.listdir(os.path.join(dataset, folder))):\n",
        "\n",
        "                # get pathname of each image\n",
        "                img_path = os.path.join(os.path.join(dataset, folder), file)\n",
        "\n",
        "                # Open \n",
        "                image = cv2.imread(img_path)\n",
        "                image = cv2.cvtColor(image, cv2.COLOR_BGR2RGB)\n",
        "                \n",
        "                # resize the image\n",
        "                image = cv2.resize(image, image_size)\n",
        "\n",
        "                # Append the image and its corresponding label to the output\n",
        "                images.append(image)\n",
        "                labels.append(label)\n",
        "\n",
        "    images = np.array(images, dtype = 'float32')\n",
        "    labels = np.array(labels, dtype = 'int32')\n",
        "\n",
        "    return images, labels"
      ]
    },
    {
      "cell_type": "code",
      "execution_count": null,
      "metadata": {
        "id": "NfodzOoaHvxv",
        "colab": {
          "base_uri": "https://localhost:8080/"
        },
        "outputId": "34ebb109-546b-4df3-897a-00c5260f5128"
      },
      "outputs": [
        {
          "output_type": "stream",
          "name": "stderr",
          "text": [
            "100%|██████████| 113/113 [00:02<00:00, 50.01it/s]\n",
            "100%|██████████| 143/143 [00:02<00:00, 49.78it/s]\n",
            "100%|██████████| 74/74 [00:01<00:00, 47.19it/s]\n",
            "100%|██████████| 100/100 [00:22<00:00,  4.54it/s]\n",
            "100%|██████████| 142/142 [00:02<00:00, 53.77it/s]\n",
            "100%|██████████| 100/100 [00:21<00:00,  4.57it/s]\n",
            "100%|██████████| 100/100 [00:21<00:00,  4.56it/s]\n",
            "100%|██████████| 113/113 [00:02<00:00, 53.27it/s]\n"
          ]
        }
      ],
      "source": [
        "images, labels = load_data()"
      ]
    },
    {
      "cell_type": "code",
      "execution_count": null,
      "metadata": {
        "id": "4oeXn5IUJK0L"
      },
      "outputs": [],
      "source": [
        "images, labels = shuffle(images, labels, random_state=10)\n",
        "\n",
        "train_images, test_images, train_labels, test_labels = train_test_split(images, labels, test_size = 0.2)\n",
        "test_images, val_images, test_labels, val_labels = train_test_split(test_images, test_labels, test_size = 0.5)"
      ]
    },
    {
      "cell_type": "code",
      "execution_count": null,
      "metadata": {
        "id": "Hs4O3ez_JM0y",
        "colab": {
          "base_uri": "https://localhost:8080/"
        },
        "outputId": "0def8185-f4b2-456d-afe1-17ae5a68bd3e"
      },
      "outputs": [
        {
          "output_type": "stream",
          "name": "stdout",
          "text": [
            "Number of training examples: 708\n",
            "Number of validation examples: 89\n",
            "Number of testing examples: 88\n",
            "Training images are of shape: (708, 120, 120, 3)\n",
            "Training labels are of shape: (708,)\n",
            "Validation images are of shape: (89, 120, 120, 3)\n",
            "Validation labels are of shape: (89,)\n",
            "Test images are of shape: (88, 120, 120, 3)\n",
            "Test labels are of shape: (88,)\n"
          ]
        }
      ],
      "source": [
        "n_train = train_labels.shape[0]\n",
        "n_val = val_labels.shape[0]\n",
        "n_test = test_labels.shape[0]\n",
        "\n",
        "print(\"Number of training examples: {}\".format(n_train))\n",
        "print(\"Number of validation examples: {}\".format(n_val))\n",
        "print(\"Number of testing examples: {}\".format(n_test))\n",
        "\n",
        "print(\"Training images are of shape: {}\".format(train_images.shape))\n",
        "print(\"Training labels are of shape: {}\".format(train_labels.shape))\n",
        "print(\"Validation images are of shape: {}\".format(val_images.shape))\n",
        "print(\"Validation labels are of shape: {}\".format(val_labels.shape))\n",
        "print(\"Test images are of shape: {}\".format(test_images.shape))\n",
        "print(\"Test labels are of shape: {}\".format(test_labels.shape))"
      ]
    },
    {
      "cell_type": "code",
      "execution_count": null,
      "metadata": {
        "id": "YrAgprb8KKI-"
      },
      "outputs": [],
      "source": [
        "train_images = train_images / 255.0 \n",
        "val_images = val_images / 255.0\n",
        "test_images = test_images / 255.0"
      ]
    },
    {
      "cell_type": "code",
      "execution_count": null,
      "metadata": {
        "id": "E9fxLG56Nwgl"
      },
      "outputs": [],
      "source": [
        "from keras.layers import Lambda, SeparableConv2D, BatchNormalization, Dropout, MaxPooling2D, Input, Dense, Conv2D, Activation, Flatten \n",
        "from keras.callbacks import EarlyStopping, ReduceLROnPlateau, ModelCheckpoint"
      ]
    },
    {
      "cell_type": "code",
      "execution_count": null,
      "metadata": {
        "id": "mehFuFSaO_hL"
      },
      "outputs": [],
      "source": [
        "nb_classes = 9\n",
        "nb_epochs = 10\n",
        "img_rows, img_columns = 120, 120\n",
        "img_channel = 3\n",
        "nb_filters = 32\n",
        "nb_pool = 2\n",
        "nb_conv = 3\n",
        "model = tf.keras.Sequential([\n",
        "    tf.keras.layers.Conv2D(32, (3,3), padding='same', activation=tf.nn.relu,\n",
        "                           input_shape=(120, 120, 3)),\n",
        "    tf.keras.layers.MaxPooling2D((2, 2), strides=2),\n",
        "    tf.keras.layers.Conv2D(32, (3,3), padding='same', activation=tf.nn.relu),\n",
        "    tf.keras.layers.MaxPooling2D((2, 2), strides=2),\n",
        "    tf.keras.layers.Dropout(0.5),\n",
        "    tf.keras.layers.Flatten(),\n",
        "    tf.keras.layers.Dense(128, activation=tf.nn.relu),\n",
        "    tf.keras.layers.Dense(9,  activation=tf.nn.softmax)\n",
        "])"
      ]
    },
    {
      "cell_type": "code",
      "execution_count": null,
      "metadata": {
        "id": "nJ9dUkQMPhlr",
        "colab": {
          "base_uri": "https://localhost:8080/"
        },
        "outputId": "f75c7710-5492-4b5a-b43d-a0259f7420f6"
      },
      "outputs": [
        {
          "output_type": "stream",
          "name": "stdout",
          "text": [
            "Epoch 1/10\n",
            "23/23 [==============================] - 12s 486ms/step - loss: 1.9192 - accuracy: 0.2726 - val_loss: 1.2709 - val_accuracy: 0.4205\n",
            "Epoch 2/10\n",
            "23/23 [==============================] - 11s 479ms/step - loss: 1.1349 - accuracy: 0.4986 - val_loss: 1.0441 - val_accuracy: 0.5682\n",
            "Epoch 3/10\n",
            "23/23 [==============================] - 11s 483ms/step - loss: 0.9419 - accuracy: 0.6116 - val_loss: 1.1008 - val_accuracy: 0.4659\n",
            "Epoch 4/10\n",
            "23/23 [==============================] - 11s 484ms/step - loss: 0.8824 - accuracy: 0.6201 - val_loss: 0.9310 - val_accuracy: 0.6364\n",
            "Epoch 5/10\n",
            "23/23 [==============================] - 12s 508ms/step - loss: 0.6791 - accuracy: 0.7444 - val_loss: 0.9703 - val_accuracy: 0.6250\n",
            "Epoch 6/10\n",
            "23/23 [==============================] - 11s 485ms/step - loss: 0.5248 - accuracy: 0.8065 - val_loss: 0.8458 - val_accuracy: 0.6591\n",
            "Epoch 7/10\n",
            "23/23 [==============================] - 11s 483ms/step - loss: 0.4355 - accuracy: 0.8517 - val_loss: 0.9481 - val_accuracy: 0.6250\n",
            "Epoch 8/10\n",
            "23/23 [==============================] - 11s 483ms/step - loss: 0.3537 - accuracy: 0.8870 - val_loss: 0.8762 - val_accuracy: 0.6250\n",
            "Epoch 9/10\n",
            "23/23 [==============================] - 11s 482ms/step - loss: 0.4030 - accuracy: 0.8333 - val_loss: 0.8841 - val_accuracy: 0.6705\n",
            "Epoch 10/10\n",
            "23/23 [==============================] - 11s 484ms/step - loss: 0.2603 - accuracy: 0.9124 - val_loss: 0.8215 - val_accuracy: 0.7159\n"
          ]
        }
      ],
      "source": [
        "model.compile(optimizer='adam',loss='sparse_categorical_crossentropy',metrics=['accuracy'])\n",
        "history2  = model.fit(train_images, train_labels, epochs = nb_epochs, verbose = 1, validation_data = (test_images, test_labels))"
      ]
    },
    {
      "cell_type": "code",
      "execution_count": null,
      "metadata": {
        "id": "HU4hWKNaQnNF",
        "colab": {
          "base_uri": "https://localhost:8080/"
        },
        "outputId": "e90a5b0b-c98d-4afe-85ee-81cce7400dc3"
      },
      "outputs": [
        {
          "output_type": "stream",
          "name": "stdout",
          "text": [
            "Test Score:  0.8214559555053711\n",
            "Test accuracy:  0.7159090638160706\n"
          ]
        }
      ],
      "source": [
        "score = model.evaluate(test_images, test_labels, verbose = 0 )\n",
        "print(\"Test Score: \", score[0])\n",
        "print(\"Test accuracy: \", score[1])"
      ]
    },
    {
      "cell_type": "code",
      "execution_count": null,
      "metadata": {
        "id": "4QDKFJcaRBFT"
      },
      "outputs": [],
      "source": [
        "def plot_accuracy_loss_chart(history):\n",
        "    epochs = [i for i in range(10)]\n",
        "    fig , ax = plt.subplots(1,2)\n",
        "    train_acc = history.history['accuracy']\n",
        "    train_loss = history.history['loss']\n",
        "    val_acc = history.history['val_accuracy']\n",
        "    val_loss = history.history['val_loss']\n",
        "    fig.set_size_inches(20,10)\n",
        "    ax[0].plot(epochs , train_acc , 'go-' , label = 'Training Accuracy')\n",
        "    ax[0].plot(epochs , val_acc , 'ro-' , label = 'Validation Accuracy')\n",
        "    ax[0].set_title('Training & Validation Accuracy')\n",
        "    ax[0].legend()\n",
        "    ax[0].set_xlabel(\"Epochs\")\n",
        "    ax[0].set_ylabel(\"Accuracy\")\n",
        "\n",
        "    ax[1].plot(epochs , train_loss , 'g-o' , label = 'Training Loss')\n",
        "    ax[1].plot(epochs , val_loss , 'r-o' , label = 'Validation Loss')\n",
        "    ax[1].set_title('Training & Validation Loss')\n",
        "    ax[1].legend()\n",
        "    ax[1].set_xlabel(\"Epochs\")\n",
        "    ax[1].set_ylabel(\"Training & Validation Loss\")\n",
        "    plt.show()"
      ]
    },
    {
      "cell_type": "code",
      "execution_count": null,
      "metadata": {
        "id": "_4aEdk0AfdFQ",
        "colab": {
          "base_uri": "https://localhost:8080/",
          "height": 170
        },
        "outputId": "c6588f3a-5581-449e-f86c-c5a289639c2e"
      },
      "outputs": [
        {
          "output_type": "display_data",
          "data": {
            "text/plain": [
              "<Figure size 1440x720 with 2 Axes>"
            ],
            "image/png": "[encoded data removed]"
          },
          "metadata": {
            "needs_background": "light"
          }
        }
      ],
      "source": [
        "plot_accuracy_loss_chart(history2)"
      ]
    },
    {
      "cell_type": "code",
      "execution_count": null,
      "metadata": {
        "id": "Q8TAgHC-Ru-z",
        "colab": {
          "base_uri": "https://localhost:8080/"
        },
        "outputId": "75880135-df30-4b9e-893b-f9947b6a39cb"
      },
      "outputs": [
        {
          "output_type": "stream",
          "name": "stdout",
          "text": [
            "3/3 [==============================] - 0s 108ms/step - loss: 0.8215 - accuracy: 0.7159\n",
            "Loss of the model  is - test  0.8214559555053711\n",
            "Accuracy of the model is - test 71.59090638160706 %\n",
            "3/3 [==============================] - 0s 115ms/step - loss: 0.8284 - accuracy: 0.6854\n",
            "Loss of the model  is - val  0.8283634185791016\n",
            "Accuracy of the model is - val 68.53932738304138 %\n",
            "23/23 [==============================] - 3s 118ms/step - loss: 0.2017 - accuracy: 0.9308\n",
            "Loss of the model  is - train  0.20166154205799103\n",
            "Accuracy of the model is - train 93.07909607887268 %\n"
          ]
        }
      ],
      "source": [
        "results = model.evaluate(test_images, test_labels)\n",
        "\n",
        "print(\"Loss of the model  is - test \", results[0])\n",
        "print(\"Accuracy of the model is - test\", results[1]*100, \"%\")\n",
        "\n",
        "\n",
        "results = model.evaluate(val_images, val_labels)\n",
        "\n",
        "print(\"Loss of the model  is - val \", results[0])\n",
        "print(\"Accuracy of the model is - val\", results[1]*100, \"%\")\n",
        "\n",
        "results = model.evaluate(train_images, train_labels)\n",
        "\n",
        "print(\"Loss of the model  is - train \", results[0])\n",
        "print(\"Accuracy of the model is - train\", results[1]*100, \"%\")"
      ]
    },
    {
      "cell_type": "code",
      "source": [
        "from sklearn.metrics import classification_report\n",
        "\n",
        "predictions = model.predict(test_images)\n",
        "predictions = np.argmax(predictions,axis=1)\n",
        "predictions[:300]"
      ],
      "metadata": {
        "colab": {
          "base_uri": "https://localhost:8080/"
        },
        "id": "1w3wYI2ENc4k",
        "outputId": "b4445633-5cb2-4949-820e-ca9bf7d2f62b"
      },
      "execution_count": null,
      "outputs": [
        {
          "output_type": "execute_result",
          "data": {
            "text/plain": [
              "array([2, 3, 5, 3, 6, 7, 7, 4, 4, 5, 7, 3, 8, 5, 5, 4, 7, 8, 3, 7, 3, 7,\n",
              "       5, 2, 6, 4, 8, 4, 7, 7, 7, 4, 4, 5, 7, 5, 1, 5, 6, 5, 4, 6, 1, 7,\n",
              "       4, 2, 5, 3, 5, 4, 7, 3, 3, 2, 7, 7, 3, 4, 4, 5, 4, 5, 3, 6, 3, 3,\n",
              "       5, 4, 5, 2, 4, 4, 2, 4, 5, 8, 7, 2, 2, 4, 3, 7, 7, 5, 7, 5, 5, 8])"
            ]
          },
          "metadata": {},
          "execution_count": 173
        }
      ]
    },
    {
      "cell_type": "code",
      "source": [
        "from sklearn.metrics import ConfusionMatrixDisplay,confusion_matrix\n",
        "import pandas as pd\n",
        "\n",
        "cm = confusion_matrix(test_labels, predictions)\n",
        "cm = pd.DataFrame(cm, index = ['1', '2', '3','4','5','6','7','8'], columns = ['1', '2', '3','4','5','6','7','8'])\n",
        "cm"
      ],
      "metadata": {
        "colab": {
          "base_uri": "https://localhost:8080/",
          "height": 300
        },
        "id": "1LXh7AsKNlbp",
        "outputId": "b4fa82cf-cf78-44fc-a0ba-2a3aab7e341e"
      },
      "execution_count": null,
      "outputs": [
        {
          "output_type": "execute_result",
          "data": {
            "text/plain": [
              "   1  2  3   4   5  6   7  8\n",
              "1  2  0  3   0   5  0   0  0\n",
              "2  0  6  0   1   0  0   0  0\n",
              "3  0  0  7   0   3  0   0  0\n",
              "4  0  0  0  13   0  0   1  0\n",
              "5  0  0  3   0  10  0   0  0\n",
              "6  0  0  0   0   0  5   0  0\n",
              "7  0  0  0   0   1  0  15  0\n",
              "8  0  2  0   4   0  0   2  5"
            ],
            "text/html": [
              "\n",
              "  <div id=\"df-8a5351cb-e7b9-48b7-8716-5cd88dc69822\">\n",
              "    <div class=\"colab-df-container\">\n",
              "      <div>\n",
              "<style scoped>\n",
              "    .dataframe tbody tr th:only-of-type {\n",
              "        vertical-align: middle;\n",
              "    }\n",
              "\n",
              "    .dataframe tbody tr th {\n",
              "        vertical-align: top;\n",
              "    }\n",
              "\n",
              "    .dataframe thead th {\n",
              "        text-align: right;\n",
              "    }\n",
              "</style>\n",
              "<table border=\"1\" class=\"dataframe\">\n",
              "  <thead>\n",
              "    <tr style=\"text-align: right;\">\n",
              "      <th></th>\n",
              "      <th>1</th>\n",
              "      <th>2</th>\n",
              "      <th>3</th>\n",
              "      <th>4</th>\n",
              "      <th>5</th>\n",
              "      <th>6</th>\n",
              "      <th>7</th>\n",
              "      <th>8</th>\n",
              "    </tr>\n",
              "  </thead>\n",
              "  <tbody>\n",
              "    <tr>\n",
              "      <th>1</th>\n",
              "      <td>2</td>\n",
              "      <td>0</td>\n",
              "      <td>3</td>\n",
              "      <td>0</td>\n",
              "      <td>5</td>\n",
              "      <td>0</td>\n",
              "      <td>0</td>\n",
              "      <td>0</td>\n",
              "    </tr>\n",
              "    <tr>\n",
              "      <th>2</th>\n",
              "      <td>0</td>\n",
              "      <td>6</td>\n",
              "      <td>0</td>\n",
              "      <td>1</td>\n",
              "      <td>0</td>\n",
              "      <td>0</td>\n",
              "      <td>0</td>\n",
              "      <td>0</td>\n",
              "    </tr>\n",
              "    <tr>\n",
              "      <th>3</th>\n",
              "      <td>0</td>\n",
              "      <td>0</td>\n",
              "      <td>7</td>\n",
              "      <td>0</td>\n",
              "      <td>3</td>\n",
              "      <td>0</td>\n",
              "      <td>0</td>\n",
              "      <td>0</td>\n",
              "    </tr>\n",
              "    <tr>\n",
              "      <th>4</th>\n",
              "      <td>0</td>\n",
              "      <td>0</td>\n",
              "      <td>0</td>\n",
              "      <td>13</td>\n",
              "      <td>0</td>\n",
              "      <td>0</td>\n",
              "      <td>1</td>\n",
              "      <td>0</td>\n",
              "    </tr>\n",
              "    <tr>\n",
              "      <th>5</th>\n",
              "      <td>0</td>\n",
              "      <td>0</td>\n",
              "      <td>3</td>\n",
              "      <td>0</td>\n",
              "      <td>10</td>\n",
              "      <td>0</td>\n",
              "      <td>0</td>\n",
              "      <td>0</td>\n",
              "    </tr>\n",
              "    <tr>\n",
              "      <th>6</th>\n",
              "      <td>0</td>\n",
              "      <td>0</td>\n",
              "      <td>0</td>\n",
              "      <td>0</td>\n",
              "      <td>0</td>\n",
              "      <td>5</td>\n",
              "      <td>0</td>\n",
              "      <td>0</td>\n",
              "    </tr>\n",
              "    <tr>\n",
              "      <th>7</th>\n",
              "      <td>0</td>\n",
              "      <td>0</td>\n",
              "      <td>0</td>\n",
              "      <td>0</td>\n",
              "      <td>1</td>\n",
              "      <td>0</td>\n",
              "      <td>15</td>\n",
              "      <td>0</td>\n",
              "    </tr>\n",
              "    <tr>\n",
              "      <th>8</th>\n",
              "      <td>0</td>\n",
              "      <td>2</td>\n",
              "      <td>0</td>\n",
              "      <td>4</td>\n",
              "      <td>0</td>\n",
              "      <td>0</td>\n",
              "      <td>2</td>\n",
              "      <td>5</td>\n",
              "    </tr>\n",
              "  </tbody>\n",
              "</table>\n",
              "</div>\n",
              "      <button class=\"colab-df-convert\" onclick=\"convertToInteractive('df-8a5351cb-e7b9-48b7-8716-5cd88dc69822')\"\n",
              "              title=\"Convert this dataframe to an interactive table.\"\n",
              "              style=\"display:none;\">\n",
              "        \n",
              "  <svg xmlns=\"http://www.w3.org/2000/svg\" height=\"24px\"viewBox=\"0 0 24 24\"\n",
              "       width=\"24px\">\n",
              "    <path d=\"M0 0h24v24H0V0z\" fill=\"none\"/>\n",
              "    <path d=\"M18.56 5.44l.94 2.06.94-2.06 2.06-.94-2.06-.94-.94-2.06-.94 2.06-2.06.94zm-11 1L8.5 8.5l.94-2.06 2.06-.94-2.06-.94L8.5 2.5l-.94 2.06-2.06.94zm10 10l.94 2.06.94-2.06 2.06-.94-2.06-.94-.94-2.06-.94 2.06-2.06.94z\"/><path d=\"M17.41 7.96l-1.37-1.37c-.4-.4-.92-.59-1.43-.59-.52 0-1.04.2-1.43.59L10.3 9.45l-7.72 7.72c-.78.78-.78 2.05 0 2.83L4 21.41c.39.39.9.59 1.41.59.51 0 1.02-.2 1.41-.59l7.78-7.78 2.81-2.81c.8-.78.8-2.07 0-2.86zM5.41 20L4 18.59l7.72-7.72 1.47 1.35L5.41 20z\"/>\n",
              "  </svg>\n",
              "      </button>\n",
              "      \n",
              "  <style>\n",
              "    .colab-df-container {\n",
              "      display:flex;\n",
              "      flex-wrap:wrap;\n",
              "      gap: 12px;\n",
              "    }\n",
              "\n",
              "    .colab-df-convert {\n",
              "      background-color: #E8F0FE;\n",
              "      border: none;\n",
              "      border-radius: 50%;\n",
              "      cursor: pointer;\n",
              "      display: none;\n",
              "      fill: #1967D2;\n",
              "      height: 32px;\n",
              "      padding: 0 0 0 0;\n",
              "      width: 32px;\n",
              "    }\n",
              "\n",
              "    .colab-df-convert:hover {\n",
              "      background-color: #E2EBFA;\n",
              "      box-shadow: 0px 1px 2px rgba(60, 64, 67, 0.3), 0px 1px 3px 1px rgba(60, 64, 67, 0.15);\n",
              "      fill: #174EA6;\n",
              "    }\n",
              "\n",
              "    [theme=dark] .colab-df-convert {\n",
              "      background-color: #3B4455;\n",
              "      fill: #D2E3FC;\n",
              "    }\n",
              "\n",
              "    [theme=dark] .colab-df-convert:hover {\n",
              "      background-color: #434B5C;\n",
              "      box-shadow: 0px 1px 3px 1px rgba(0, 0, 0, 0.15);\n",
              "      filter: drop-shadow(0px 1px 2px rgba(0, 0, 0, 0.3));\n",
              "      fill: #FFFFFF;\n",
              "    }\n",
              "  </style>\n",
              "\n",
              "      <script>\n",
              "        const buttonEl =\n",
              "          document.querySelector('#df-8a5351cb-e7b9-48b7-8716-5cd88dc69822 button.colab-df-convert');\n",
              "        buttonEl.style.display =\n",
              "          google.colab.kernel.accessAllowed ? 'block' : 'none';\n",
              "\n",
              "        async function convertToInteractive(key) {\n",
              "          const element = document.querySelector('#df-8a5351cb-e7b9-48b7-8716-5cd88dc69822');\n",
              "          const dataTable =\n",
              "            await google.colab.kernel.invokeFunction('convertToInteractive',\n",
              "                                                     [key], {});\n",
              "          if (!dataTable) return;\n",
              "\n",
              "          const docLinkHtml = 'Like what you see? Visit the ' +\n",
              "            '<a target=\"_blank\" href=https://colab.research.google.com/notebooks/data_table.ipynb>data table notebook</a>'\n",
              "            + ' to learn more about interactive tables.';\n",
              "          element.innerHTML = '';\n",
              "          dataTable['output_type'] = 'display_data';\n",
              "          await google.colab.output.renderOutput(dataTable, element);\n",
              "          const docLink = document.createElement('div');\n",
              "          docLink.innerHTML = docLinkHtml;\n",
              "          element.appendChild(docLink);\n",
              "        }\n",
              "      </script>\n",
              "    </div>\n",
              "  </div>\n",
              "  "
            ]
          },
          "metadata": {},
          "execution_count": 174
        }
      ]
    },
    {
      "cell_type": "code",
      "source": [
        "import seaborn as sns\n",
        "def plot_confusion_matrix (cm):\n",
        "    plt.figure(figsize = (10,10))\n",
        "    sns.heatmap(\n",
        "        cm, \n",
        "        cmap = 'Blues', \n",
        "        linecolor = 'black', \n",
        "        linewidth = 1, \n",
        "        annot = True, \n",
        "        fmt = '', \n",
        "        xticklabels = class_names, \n",
        "        yticklabels = class_names)\n",
        "    \n",
        "plot_confusion_matrix(cm)\n"
      ],
      "metadata": {
        "colab": {
          "base_uri": "https://localhost:8080/",
          "height": 323
        },
        "id": "gw4HJfiyNrlI",
        "outputId": "b5a1e886-6c89-4401-e0a8-ab4f46771211"
      },
      "execution_count": null,
      "outputs": [
        {
          "output_type": "display_data",
          "data": {
            "text/plain": [
              "<Figure size 720x720 with 2 Axes>"
            ],
            "image/png": "[encoded data removed]"
          },
          "metadata": {
            "needs_background": "light"
          }
        }
      ]
    }
  ],
  "metadata": {
    "colab": {
      "name": "tea sickness.ipynb",
      "provenance": [],
      "collapsed_sections": [],
      "mount_file_id": "1HPg9URNg8UiD5IsxeFcAKza8huYOcTdP",
      "authorship_tag": "ABX9TyNHFUxyh1BqfgdLzkzXkYzs",
      "include_colab_link": true
    },
    "kernelspec": {
      "display_name": "Python 3",
      "name": "python3"
    },
    "language_info": {
      "name": "python"
    }
  },
  "nbformat": 4,
  "nbformat_minor": 0
}