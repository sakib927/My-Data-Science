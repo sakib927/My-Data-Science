{
  "nbformat": 4,
  "nbformat_minor": 0,
  "metadata": {
    "colab": {
      "name": "Rice leaf disease.ipynb",
      "provenance": [],
      "collapsed_sections": [],
      "authorship_tag": "ABX9TyPsotyKvqa3ZikAVeMbva7J",
      "include_colab_link": true
    },
    "kernelspec": {
      "name": "python3",
      "display_name": "Python 3"
    },
    "language_info": {
      "name": "python"
    }
  },
  "cells": [
    {
      "cell_type": "markdown",
      "metadata": {
        "id": "view-in-github",
        "colab_type": "text"
      },
      "source": [
        "<a href=\"https://colab.research.google.com/github/sakib927/My-Data-Science/blob/main/Rice_leaf_disease.ipynb\" target=\"_parent\"><img src=\"https://colab.research.google.com/assets/colab-badge.svg\" alt=\"Open In Colab\"/></a>"
      ]
    },
    {
      "cell_type": "markdown",
      "source": [
        "Sakib Ali Choudhary \n",
        "\n",
        "This project is for constuction of a deep learning model to predict the rice leaf disease based on image recognition \n",
        "\n",
        "The dataset used in collected from Kaggle\n",
        "\n",
        "The link for the dataset :- https://www.kaggle.com/datasets/dedeikhsandwisaputra/rice-leafs-disease-dataset?resource=download"
      ],
      "metadata": {
        "id": "lH-rcfGXhknd"
      }
    },
    {
      "cell_type": "code",
      "source": [
        "from google.colab import drive\n",
        "drive.mount('/content/drive')"
      ],
      "metadata": {
        "colab": {
          "base_uri": "https://localhost:8080/"
        },
        "id": "KnAjh7ue9h3p",
        "outputId": "61859a31-38be-417d-c40f-b552b4ff5821"
      },
      "execution_count": 6,
      "outputs": [
        {
          "output_type": "stream",
          "name": "stdout",
          "text": [
            "Drive already mounted at /content/drive; to attempt to forcibly remount, call drive.mount(\"/content/drive\", force_remount=True).\n"
          ]
        }
      ]
    },
    {
      "cell_type": "markdown",
      "source": [
        "Importing Models"
      ],
      "metadata": {
        "id": "pUYWPk1JfL1l"
      }
    },
    {
      "cell_type": "code",
      "execution_count": 47,
      "metadata": {
        "id": "9M92CuHx8aUT"
      },
      "outputs": [],
      "source": [
        "from keras.models import Sequential\n",
        "import tensorflow as tf\n",
        "import random\n",
        "import tensorflow_datasets as tfds\n",
        "from keras.layers.core import Dense, Activation, Dropout, Flatten\n",
        "from keras.layers.convolutional import Convolution2D, MaxPooling2D\n",
        "from tensorflow.keras.optimizers import SGD,RMSprop,Adam\n",
        "from keras.utils import np_utils\n",
        "from sklearn import metrics \n",
        "from sklearn.utils import shuffle\n",
        "from sklearn.model_selection import train_test_split\n",
        "import matplotlib.image as mpimg\n",
        "import matplotlib.pyplot as plt\n",
        "import numpy as np\n",
        "import os\n",
        "import cv2\n",
        "from google.colab.patches import cv2_imshow\n",
        "import random\n",
        "from numpy import *\n",
        "from PIL import Image\n",
        "import theano\n",
        "from tqdm import tqdm \n",
        "from skimage import io"
      ]
    },
    {
      "cell_type": "markdown",
      "source": [
        "Setting the path and the image size"
      ],
      "metadata": {
        "id": "Q-eT6QKxfS2S"
      }
    },
    {
      "cell_type": "code",
      "source": [
        "path_test = \"/content/drive/MyDrive/RiceLeafsDisease\"\n",
        "class_names = ['bacterial_leaf_blight','brown_spot','healthy','leaf_blast','leaf_scald','narrow_brown_spot']\n",
        "nb_classes = len(class_names)\n",
        "image_size = (350,350)"
      ],
      "metadata": {
        "id": "8YqTsKjm9Q80"
      },
      "execution_count": 8,
      "outputs": []
    },
    {
      "cell_type": "markdown",
      "source": [
        "Loading the data and labeling them"
      ],
      "metadata": {
        "id": "RirzAzsyfa8H"
      }
    },
    {
      "cell_type": "code",
      "source": [
        "def load_data():\n",
        "    \n",
        "    datasets = ['/content/drive/MyDrive/RiceLeafsDisease']\n",
        "    images = []\n",
        "    labels = []\n",
        "\n",
        "    # iterate through training and test sets\n",
        "    count =0\n",
        "    for dataset in datasets:\n",
        "\n",
        "        # iterate through folders in each dataset\n",
        "        for folder in os.listdir(dataset):\n",
        "\n",
        "            if folder in ['bacterial_leaf_blight']: label = 1 \n",
        "            elif folder in ['brown_spot']: label = 2 \n",
        "            elif folder in ['healthy']: label = 3 \n",
        "            elif folder in ['leaf_blast']: label = 4 \n",
        "            elif folder in ['leaf_scald']: label = 5\n",
        "            elif folder in ['narrow_brown_spot']: label = 6 \n",
        "            else : print(700)\n",
        "\n",
        "            # iterate through each image in folder\n",
        "            for file in tqdm(os.listdir(os.path.join(dataset, folder))):\n",
        "\n",
        "                # get pathname of each image\n",
        "                img_path = os.path.join(os.path.join(dataset, folder), file)\n",
        "\n",
        "                # Open \n",
        "                image = cv2.imread(img_path)\n",
        "                image = cv2.cvtColor(image, cv2.COLOR_BGR2RGB)\n",
        "                \n",
        "                # resize the image\n",
        "                image = cv2.resize(image, image_size)\n",
        "\n",
        "                # Append the image and its corresponding label to the output\n",
        "                images.append(image)\n",
        "                labels.append(label)\n",
        "\n",
        "    images = np.array(images, dtype = 'float32')\n",
        "    labels = np.array(labels, dtype = 'int32')\n",
        "\n",
        "    return images, labels"
      ],
      "metadata": {
        "id": "VHHb5k7l-ZF9"
      },
      "execution_count": 9,
      "outputs": []
    },
    {
      "cell_type": "code",
      "source": [
        "images, labels = load_data()"
      ],
      "metadata": {
        "colab": {
          "base_uri": "https://localhost:8080/"
        },
        "id": "sBSf9ttG_I5y",
        "outputId": "1c9d7f04-8f45-4260-cc09-ab32dcf008fb"
      },
      "execution_count": 10,
      "outputs": [
        {
          "output_type": "stream",
          "name": "stderr",
          "text": [
            "100%|██████████| 438/438 [00:19<00:00, 21.97it/s]\n",
            "100%|██████████| 438/438 [00:17<00:00, 25.24it/s]\n",
            "100%|██████████| 438/438 [00:17<00:00, 25.14it/s]\n",
            "100%|██████████| 438/438 [00:20<00:00, 21.21it/s]\n",
            "100%|██████████| 438/438 [00:19<00:00, 22.49it/s]\n",
            "100%|██████████| 438/438 [00:20<00:00, 21.88it/s]\n"
          ]
        }
      ]
    },
    {
      "cell_type": "markdown",
      "source": [
        "Spliting the data in training , testing , validation"
      ],
      "metadata": {
        "id": "lpY2TGsvfjEe"
      }
    },
    {
      "cell_type": "code",
      "source": [
        "train_images, test_images, train_labels, test_labels = train_test_split(images, labels, test_size = 0.2)\n",
        "test_images, val_images, test_labels, val_labels = train_test_split(test_images, test_labels, test_size = 0.5)"
      ],
      "metadata": {
        "id": "mw9inxMH_MBH"
      },
      "execution_count": 11,
      "outputs": []
    },
    {
      "cell_type": "code",
      "source": [
        "n_train = train_labels.shape[0]\n",
        "n_val = val_labels.shape[0]\n",
        "n_test = test_labels.shape[0]\n",
        "\n",
        "print(\"Number of training examples: {}\".format(n_train))\n",
        "print(\"Number of validation examples: {}\".format(n_val))\n",
        "print(\"Number of testing examples: {}\".format(n_test))\n",
        "\n",
        "print(\"Training images are of shape: {}\".format(train_images.shape))\n",
        "print(\"Training labels are of shape: {}\".format(train_labels.shape))\n",
        "print(\"Validation images are of shape: {}\".format(val_images.shape))\n",
        "print(\"Validation labels are of shape: {}\".format(val_labels.shape))\n",
        "print(\"Test images are of shape: {}\".format(test_images.shape))\n",
        "print(\"Test labels are of shape: {}\".format(test_labels.shape))"
      ],
      "metadata": {
        "colab": {
          "base_uri": "https://localhost:8080/"
        },
        "id": "kB6sr6HU_R9F",
        "outputId": "39ab7edb-b575-48d5-828e-7a040cb7072c"
      },
      "execution_count": 12,
      "outputs": [
        {
          "output_type": "stream",
          "name": "stdout",
          "text": [
            "Number of training examples: 2102\n",
            "Number of validation examples: 263\n",
            "Number of testing examples: 263\n",
            "Training images are of shape: (2102, 350, 350, 3)\n",
            "Training labels are of shape: (2102,)\n",
            "Validation images are of shape: (263, 350, 350, 3)\n",
            "Validation labels are of shape: (263,)\n",
            "Test images are of shape: (263, 350, 350, 3)\n",
            "Test labels are of shape: (263,)\n"
          ]
        }
      ]
    },
    {
      "cell_type": "markdown",
      "source": [
        "Scaling the data"
      ],
      "metadata": {
        "id": "MShddM8SfzP5"
      }
    },
    {
      "cell_type": "code",
      "source": [
        "train_images = train_images / 255.0 \n",
        "val_images = val_images / 255.0\n",
        "test_images = test_images / 255.0"
      ],
      "metadata": {
        "id": "DEt6jyiV_VH3"
      },
      "execution_count": 13,
      "outputs": []
    },
    {
      "cell_type": "code",
      "source": [
        "from keras.layers import Lambda, SeparableConv2D, BatchNormalization, Dropout, MaxPooling2D, Input, Dense, Conv2D, Activation, Flatten \n",
        "from keras.callbacks import EarlyStopping, ReduceLROnPlateau, ModelCheckpoint"
      ],
      "metadata": {
        "id": "WkD8BvsA_XZ_"
      },
      "execution_count": 14,
      "outputs": []
    },
    {
      "cell_type": "markdown",
      "source": [
        "Building model"
      ],
      "metadata": {
        "id": "INXe-oqtgJD_"
      }
    },
    {
      "cell_type": "code",
      "source": [
        "nb_epochs = 10\n",
        "img_rows, img_columns = 350 ,350\n",
        "img_channel = 3\n",
        "nb_filters = 32\n",
        "nb_pool = 2\n",
        "nb_conv = 3\n",
        "model = tf.keras.Sequential([\n",
        "    tf.keras.layers.Conv2D(32, (3,3), padding='same', activation=tf.nn.relu,\n",
        "                           input_shape=(350, 350, 3)),\n",
        "    tf.keras.layers.MaxPooling2D((2, 2), strides=2),\n",
        "    tf.keras.layers.Conv2D(32, (3,3), padding='same', activation=tf.nn.relu),\n",
        "    tf.keras.layers.MaxPooling2D((2, 2), strides=2),\n",
        "    tf.keras.layers.Dropout(0.5),\n",
        "    tf.keras.layers.Flatten(),\n",
        "    tf.keras.layers.Dense(128, activation=tf.nn.relu),\n",
        "    tf.keras.layers.Dense(7,  activation=tf.nn.softmax)\n",
        "])"
      ],
      "metadata": {
        "id": "NpaFel2u_ZzJ"
      },
      "execution_count": 17,
      "outputs": []
    },
    {
      "cell_type": "code",
      "source": [
        "model.compile(optimizer='adam',loss='sparse_categorical_crossentropy',metrics=['accuracy'])\n",
        "history2  = model.fit(train_images, train_labels, epochs = nb_epochs, verbose = 1, validation_data = (test_images, test_labels))"
      ],
      "metadata": {
        "colab": {
          "base_uri": "https://localhost:8080/"
        },
        "id": "H62n6ZkC_m6F",
        "outputId": "bc566a70-abc0-4d97-a189-50c2b4e11835"
      },
      "execution_count": 18,
      "outputs": [
        {
          "output_type": "stream",
          "name": "stdout",
          "text": [
            "Epoch 1/10\n",
            "66/66 [==============================] - 322s 5s/step - loss: 2.7633 - accuracy: 0.4491 - val_loss: 1.5267 - val_accuracy: 0.4373\n",
            "Epoch 2/10\n",
            "66/66 [==============================] - 313s 5s/step - loss: 0.8950 - accuracy: 0.6765 - val_loss: 0.9539 - val_accuracy: 0.6350\n",
            "Epoch 3/10\n",
            "66/66 [==============================] - 307s 5s/step - loss: 0.5656 - accuracy: 0.8011 - val_loss: 0.7864 - val_accuracy: 0.7034\n",
            "Epoch 4/10\n",
            "66/66 [==============================] - 309s 5s/step - loss: 0.3856 - accuracy: 0.8706 - val_loss: 0.7553 - val_accuracy: 0.7452\n",
            "Epoch 5/10\n",
            "66/66 [==============================] - 306s 5s/step - loss: 0.1981 - accuracy: 0.9334 - val_loss: 0.8229 - val_accuracy: 0.7643\n",
            "Epoch 6/10\n",
            "66/66 [==============================] - 309s 5s/step - loss: 0.1016 - accuracy: 0.9705 - val_loss: 0.8937 - val_accuracy: 0.7376\n",
            "Epoch 7/10\n",
            "66/66 [==============================] - 313s 5s/step - loss: 0.0748 - accuracy: 0.9786 - val_loss: 0.9821 - val_accuracy: 0.7567\n",
            "Epoch 8/10\n",
            "66/66 [==============================] - 322s 5s/step - loss: 0.0354 - accuracy: 0.9914 - val_loss: 1.0039 - val_accuracy: 0.7909\n",
            "Epoch 9/10\n",
            "66/66 [==============================] - 310s 5s/step - loss: 0.0280 - accuracy: 0.9929 - val_loss: 1.0986 - val_accuracy: 0.7529\n",
            "Epoch 10/10\n",
            "66/66 [==============================] - 308s 5s/step - loss: 0.0208 - accuracy: 0.9971 - val_loss: 1.0478 - val_accuracy: 0.7605\n"
          ]
        }
      ]
    },
    {
      "cell_type": "code",
      "source": [
        "score = model.evaluate(test_images, test_labels, verbose = 0 )\n",
        "print(\"Test Score: \", score[0])\n",
        "print(\"Test accuracy: \", score[1])"
      ],
      "metadata": {
        "colab": {
          "base_uri": "https://localhost:8080/"
        },
        "id": "FTaCS9Wy_rdd",
        "outputId": "082d8d36-5bff-4bb7-f132-31a7d895647d"
      },
      "execution_count": 19,
      "outputs": [
        {
          "output_type": "stream",
          "name": "stdout",
          "text": [
            "Test Score:  1.0477668046951294\n",
            "Test accuracy:  0.7604562640190125\n"
          ]
        }
      ]
    },
    {
      "cell_type": "code",
      "source": [
        "def plot_accuracy_loss_chart(history):\n",
        "    epochs = [i for i in range(10)]\n",
        "    fig , ax = plt.subplots(1,2)\n",
        "    train_acc = history.history['accuracy']\n",
        "    train_loss = history.history['loss']\n",
        "    val_acc = history.history['val_accuracy']\n",
        "    val_loss = history.history['val_loss']\n",
        "    fig.set_size_inches(20,10)\n",
        "    ax[0].plot(epochs , train_acc , 'go-' , label = 'Training Accuracy')\n",
        "    ax[0].plot(epochs , val_acc , 'ro-' , label = 'Validation Accuracy')\n",
        "    ax[0].set_title('Training & Validation Accuracy')\n",
        "    ax[0].legend()\n",
        "    ax[0].set_xlabel(\"Epochs\")\n",
        "    ax[0].set_ylabel(\"Accuracy\")\n",
        "\n",
        "    ax[1].plot(epochs , train_loss , 'g-o' , label = 'Training Loss')\n",
        "    ax[1].plot(epochs , val_loss , 'r-o' , label = 'Validation Loss')\n",
        "    ax[1].set_title('Training & Validation Loss')\n",
        "    ax[1].legend()\n",
        "    ax[1].set_xlabel(\"Epochs\")\n",
        "    ax[1].set_ylabel(\"Training & Validation Loss\")\n",
        "    plt.show()"
      ],
      "metadata": {
        "id": "7UneZkY7_vq2"
      },
      "execution_count": 21,
      "outputs": []
    },
    {
      "cell_type": "markdown",
      "source": [
        "Visualization of the training and validation loss and accuracy "
      ],
      "metadata": {
        "id": "w-Xqhxo_gOVC"
      }
    },
    {
      "cell_type": "code",
      "source": [
        "plot_accuracy_loss_chart(history2)"
      ],
      "metadata": {
        "colab": {
          "base_uri": "https://localhost:8080/",
          "height": 621
        },
        "id": "IrjCNx-Q_wbW",
        "outputId": "b5309966-6772-4e1f-d2db-d660e1aea0ab"
      },
      "execution_count": 22,
      "outputs": [
        {
          "output_type": "display_data",
          "data": {
            "text/plain": [
              "<Figure size 1440x720 with 2 Axes>"
            ],
            "image/png": "[encoded data removed]"
          },
          "metadata": {
            "needs_background": "light"
          }
        }
      ]
    },
    {
      "cell_type": "code",
      "source": [
        "results = model.evaluate(test_images, test_labels)\n",
        "\n",
        "print(\"Loss of the model  is - test \", results[0])\n",
        "print(\"Accuracy of the model is - test\", results[1]*100, \"%\")\n",
        "\n",
        "\n",
        "results = model.evaluate(val_images, val_labels)\n",
        "\n",
        "print(\"Loss of the model  is - val \", results[0])\n",
        "print(\"Accuracy of the model is - val\", results[1]*100, \"%\")\n",
        "\n",
        "results = model.evaluate(train_images, train_labels)\n",
        "\n",
        "print(\"Loss of the model  is - train \", results[0])\n",
        "print(\"Accuracy of the model is - train\", results[1]*100, \"%\")"
      ],
      "metadata": {
        "colab": {
          "base_uri": "https://localhost:8080/"
        },
        "id": "lvLXzJHL_0b9",
        "outputId": "ac3ad0e4-bd11-4ca6-9e83-1038a19a9ec6"
      },
      "execution_count": 23,
      "outputs": [
        {
          "output_type": "stream",
          "name": "stdout",
          "text": [
            "9/9 [==============================] - 14s 2s/step - loss: 1.0478 - accuracy: 0.7605\n",
            "Loss of the model  is - test  1.0477668046951294\n",
            "Accuracy of the model is - test 76.04562640190125 %\n",
            "9/9 [==============================] - 9s 1s/step - loss: 1.2577 - accuracy: 0.7757\n",
            "Loss of the model  is - val  1.257664442062378\n",
            "Accuracy of the model is - val 77.56654024124146 %\n",
            "66/66 [==============================] - 73s 1s/step - loss: 0.0069 - accuracy: 0.9995\n",
            "Loss of the model  is - train  0.006865866016596556\n",
            "Accuracy of the model is - train 99.95242357254028 %\n"
          ]
        }
      ]
    },
    {
      "cell_type": "code",
      "source": [
        "from sklearn.metrics import classification_report\n",
        "\n",
        "predictions = model.predict(test_images)\n",
        "predictions = np.argmax(predictions,axis=1)\n",
        "predictions[:300]"
      ],
      "metadata": {
        "colab": {
          "base_uri": "https://localhost:8080/"
        },
        "id": "6SW80eUk_7SY",
        "outputId": "d111906f-fa6b-4b7d-b1db-e2a441a33bdf"
      },
      "execution_count": 24,
      "outputs": [
        {
          "output_type": "execute_result",
          "data": {
            "text/plain": [
              "array([3, 3, 1, 6, 4, 6, 1, 4, 1, 5, 1, 3, 1, 4, 4, 4, 2, 2, 2, 1, 4, 3,\n",
              "       3, 3, 4, 1, 1, 1, 1, 4, 5, 6, 2, 2, 5, 4, 1, 2, 3, 5, 3, 2, 4, 3,\n",
              "       6, 2, 2, 2, 3, 2, 3, 6, 4, 1, 2, 1, 3, 1, 4, 3, 2, 2, 3, 5, 6, 2,\n",
              "       5, 2, 1, 6, 5, 3, 6, 6, 6, 6, 6, 6, 4, 6, 1, 4, 5, 6, 3, 2, 2, 1,\n",
              "       5, 6, 1, 4, 1, 3, 3, 1, 3, 4, 3, 3, 1, 3, 3, 1, 5, 1, 4, 4, 2, 2,\n",
              "       2, 4, 6, 3, 5, 5, 5, 5, 5, 2, 3, 5, 2, 5, 4, 1, 5, 1, 5, 5, 3, 3,\n",
              "       1, 4, 4, 6, 5, 3, 4, 4, 4, 2, 2, 6, 3, 4, 5, 2, 5, 6, 2, 4, 6, 3,\n",
              "       6, 1, 2, 4, 3, 4, 1, 2, 2, 2, 2, 3, 4, 5, 4, 3, 3, 4, 4, 3, 2, 3,\n",
              "       3, 2, 4, 5, 4, 5, 3, 1, 3, 6, 1, 6, 4, 6, 6, 1, 4, 6, 4, 1, 3, 2,\n",
              "       6, 6, 3, 6, 4, 2, 1, 1, 6, 6, 5, 4, 6, 3, 3, 3, 4, 5, 3, 4, 2, 5,\n",
              "       1, 1, 3, 6, 5, 5, 5, 3, 6, 4, 2, 5, 6, 6, 3, 4, 2, 4, 5, 6, 5, 1,\n",
              "       2, 2, 2, 4, 3, 6, 2, 4, 3, 3, 1, 3, 2, 4, 5, 2, 5, 2, 4, 2, 4])"
            ]
          },
          "metadata": {},
          "execution_count": 24
        }
      ]
    },
    {
      "cell_type": "code",
      "source": [
        "from sklearn.metrics import ConfusionMatrixDisplay,confusion_matrix\n",
        "import pandas as pd\n",
        "\n",
        "cm = confusion_matrix(test_labels, predictions)\n",
        "cm = pd.DataFrame(cm, index = ['1', '2', '3','4','5','6'], columns = ['1', '2', '3','4','5','6'])\n",
        "cm"
      ],
      "metadata": {
        "colab": {
          "base_uri": "https://localhost:8080/",
          "height": 238
        },
        "id": "SWBMS42P_9Vp",
        "outputId": "abb00d98-7de4-4e0e-c186-3ab620f4e5b7"
      },
      "execution_count": 25,
      "outputs": [
        {
          "output_type": "execute_result",
          "data": {
            "text/plain": [
              "    1   2   3   4   5   6\n",
              "1  35   0   1   1   0   1\n",
              "2   2  37   7   7   0   3\n",
              "3   0   1  32  12   0   0\n",
              "4   1   6  12  30   1   1\n",
              "5   0   0   0   0  32   0\n",
              "6   0   3   0   0   4  34"
            ],
            "text/html": [
              "\n",
              "  <div id=\"df-5d285a72-5aeb-4148-bb6e-f5ea58de0ce3\">\n",
              "    <div class=\"colab-df-container\">\n",
              "      <div>\n",
              "<style scoped>\n",
              "    .dataframe tbody tr th:only-of-type {\n",
              "        vertical-align: middle;\n",
              "    }\n",
              "\n",
              "    .dataframe tbody tr th {\n",
              "        vertical-align: top;\n",
              "    }\n",
              "\n",
              "    .dataframe thead th {\n",
              "        text-align: right;\n",
              "    }\n",
              "</style>\n",
              "<table border=\"1\" class=\"dataframe\">\n",
              "  <thead>\n",
              "    <tr style=\"text-align: right;\">\n",
              "      <th></th>\n",
              "      <th>1</th>\n",
              "      <th>2</th>\n",
              "      <th>3</th>\n",
              "      <th>4</th>\n",
              "      <th>5</th>\n",
              "      <th>6</th>\n",
              "    </tr>\n",
              "  </thead>\n",
              "  <tbody>\n",
              "    <tr>\n",
              "      <th>1</th>\n",
              "      <td>35</td>\n",
              "      <td>0</td>\n",
              "      <td>1</td>\n",
              "      <td>1</td>\n",
              "      <td>0</td>\n",
              "      <td>1</td>\n",
              "    </tr>\n",
              "    <tr>\n",
              "      <th>2</th>\n",
              "      <td>2</td>\n",
              "      <td>37</td>\n",
              "      <td>7</td>\n",
              "      <td>7</td>\n",
              "      <td>0</td>\n",
              "      <td>3</td>\n",
              "    </tr>\n",
              "    <tr>\n",
              "      <th>3</th>\n",
              "      <td>0</td>\n",
              "      <td>1</td>\n",
              "      <td>32</td>\n",
              "      <td>12</td>\n",
              "      <td>0</td>\n",
              "      <td>0</td>\n",
              "    </tr>\n",
              "    <tr>\n",
              "      <th>4</th>\n",
              "      <td>1</td>\n",
              "      <td>6</td>\n",
              "      <td>12</td>\n",
              "      <td>30</td>\n",
              "      <td>1</td>\n",
              "      <td>1</td>\n",
              "    </tr>\n",
              "    <tr>\n",
              "      <th>5</th>\n",
              "      <td>0</td>\n",
              "      <td>0</td>\n",
              "      <td>0</td>\n",
              "      <td>0</td>\n",
              "      <td>32</td>\n",
              "      <td>0</td>\n",
              "    </tr>\n",
              "    <tr>\n",
              "      <th>6</th>\n",
              "      <td>0</td>\n",
              "      <td>3</td>\n",
              "      <td>0</td>\n",
              "      <td>0</td>\n",
              "      <td>4</td>\n",
              "      <td>34</td>\n",
              "    </tr>\n",
              "  </tbody>\n",
              "</table>\n",
              "</div>\n",
              "      <button class=\"colab-df-convert\" onclick=\"convertToInteractive('df-5d285a72-5aeb-4148-bb6e-f5ea58de0ce3')\"\n",
              "              title=\"Convert this dataframe to an interactive table.\"\n",
              "              style=\"display:none;\">\n",
              "        \n",
              "  <svg xmlns=\"http://www.w3.org/2000/svg\" height=\"24px\"viewBox=\"0 0 24 24\"\n",
              "       width=\"24px\">\n",
              "    <path d=\"M0 0h24v24H0V0z\" fill=\"none\"/>\n",
              "    <path d=\"M18.56 5.44l.94 2.06.94-2.06 2.06-.94-2.06-.94-.94-2.06-.94 2.06-2.06.94zm-11 1L8.5 8.5l.94-2.06 2.06-.94-2.06-.94L8.5 2.5l-.94 2.06-2.06.94zm10 10l.94 2.06.94-2.06 2.06-.94-2.06-.94-.94-2.06-.94 2.06-2.06.94z\"/><path d=\"M17.41 7.96l-1.37-1.37c-.4-.4-.92-.59-1.43-.59-.52 0-1.04.2-1.43.59L10.3 9.45l-7.72 7.72c-.78.78-.78 2.05 0 2.83L4 21.41c.39.39.9.59 1.41.59.51 0 1.02-.2 1.41-.59l7.78-7.78 2.81-2.81c.8-.78.8-2.07 0-2.86zM5.41 20L4 18.59l7.72-7.72 1.47 1.35L5.41 20z\"/>\n",
              "  </svg>\n",
              "      </button>\n",
              "      \n",
              "  <style>\n",
              "    .colab-df-container {\n",
              "      display:flex;\n",
              "      flex-wrap:wrap;\n",
              "      gap: 12px;\n",
              "    }\n",
              "\n",
              "    .colab-df-convert {\n",
              "      background-color: #E8F0FE;\n",
              "      border: none;\n",
              "      border-radius: 50%;\n",
              "      cursor: pointer;\n",
              "      display: none;\n",
              "      fill: #1967D2;\n",
              "      height: 32px;\n",
              "      padding: 0 0 0 0;\n",
              "      width: 32px;\n",
              "    }\n",
              "\n",
              "    .colab-df-convert:hover {\n",
              "      background-color: #E2EBFA;\n",
              "      box-shadow: 0px 1px 2px rgba(60, 64, 67, 0.3), 0px 1px 3px 1px rgba(60, 64, 67, 0.15);\n",
              "      fill: #174EA6;\n",
              "    }\n",
              "\n",
              "    [theme=dark] .colab-df-convert {\n",
              "      background-color: #3B4455;\n",
              "      fill: #D2E3FC;\n",
              "    }\n",
              "\n",
              "    [theme=dark] .colab-df-convert:hover {\n",
              "      background-color: #434B5C;\n",
              "      box-shadow: 0px 1px 3px 1px rgba(0, 0, 0, 0.15);\n",
              "      filter: drop-shadow(0px 1px 2px rgba(0, 0, 0, 0.3));\n",
              "      fill: #FFFFFF;\n",
              "    }\n",
              "  </style>\n",
              "\n",
              "      <script>\n",
              "        const buttonEl =\n",
              "          document.querySelector('#df-5d285a72-5aeb-4148-bb6e-f5ea58de0ce3 button.colab-df-convert');\n",
              "        buttonEl.style.display =\n",
              "          google.colab.kernel.accessAllowed ? 'block' : 'none';\n",
              "\n",
              "        async function convertToInteractive(key) {\n",
              "          const element = document.querySelector('#df-5d285a72-5aeb-4148-bb6e-f5ea58de0ce3');\n",
              "          const dataTable =\n",
              "            await google.colab.kernel.invokeFunction('convertToInteractive',\n",
              "                                                     [key], {});\n",
              "          if (!dataTable) return;\n",
              "\n",
              "          const docLinkHtml = 'Like what you see? Visit the ' +\n",
              "            '<a target=\"_blank\" href=https://colab.research.google.com/notebooks/data_table.ipynb>data table notebook</a>'\n",
              "            + ' to learn more about interactive tables.';\n",
              "          element.innerHTML = '';\n",
              "          dataTable['output_type'] = 'display_data';\n",
              "          await google.colab.output.renderOutput(dataTable, element);\n",
              "          const docLink = document.createElement('div');\n",
              "          docLink.innerHTML = docLinkHtml;\n",
              "          element.appendChild(docLink);\n",
              "        }\n",
              "      </script>\n",
              "    </div>\n",
              "  </div>\n",
              "  "
            ]
          },
          "metadata": {},
          "execution_count": 25
        }
      ]
    },
    {
      "cell_type": "markdown",
      "source": [
        "Constucting Confusion Matrix"
      ],
      "metadata": {
        "id": "yU1KU7rjgaYd"
      }
    },
    {
      "cell_type": "code",
      "source": [
        "import seaborn as sns\n",
        "def plot_confusion_matrix (cm):\n",
        "    plt.figure(figsize = (10,10))\n",
        "    sns.heatmap(\n",
        "        cm, \n",
        "        cmap = 'Blues', \n",
        "        linecolor = 'black', \n",
        "        linewidth = 1, \n",
        "        annot = True, \n",
        "        fmt = '', \n",
        "        xticklabels = class_names, \n",
        "        yticklabels = class_names)\n",
        "    \n",
        "plot_confusion_matrix(cm)\n"
      ],
      "metadata": {
        "colab": {
          "base_uri": "https://localhost:8080/",
          "height": 688
        },
        "id": "nvRaFsLrAFRL",
        "outputId": "188f8a23-9941-46f9-c1cd-a77ddeee68fa"
      },
      "execution_count": 26,
      "outputs": [
        {
          "output_type": "display_data",
          "data": {
            "text/plain": [
              "<Figure size 720x720 with 2 Axes>"
            ],
            "image/png": "[encoded data removed]"
          },
          "metadata": {
            "needs_background": "light"
          }
        }
      ]
    },
    {
      "cell_type": "markdown",
      "source": [
        "Testing a random image"
      ],
      "metadata": {
        "id": "g0qaMSiighyD"
      }
    },
    {
      "cell_type": "code",
      "source": [
        "x = random.randint(1, 263)\n",
        "print(x)\n",
        "plt.imshow(np.squeeze(test_images[x]))"
      ],
      "metadata": {
        "colab": {
          "base_uri": "https://localhost:8080/",
          "height": 304
        },
        "id": "X8Jwq0eaXsex",
        "outputId": "6290f4f9-e0b0-4f9f-d867-f76f7b672888"
      },
      "execution_count": 53,
      "outputs": [
        {
          "output_type": "stream",
          "name": "stdout",
          "text": [
            "33\n"
          ]
        },
        {
          "output_type": "execute_result",
          "data": {
            "text/plain": [
              "<matplotlib.image.AxesImage at 0x7f98da956c10>"
            ]
          },
          "metadata": {},
          "execution_count": 53
        },
        {
          "output_type": "display_data",
          "data": {
            "text/plain": [
              "<Figure size 432x288 with 1 Axes>"
            ],
            "image/png": "[encoded data removed]"
          },
          "metadata": {
            "needs_background": "light"
          }
        }
      ]
    },
    {
      "cell_type": "code",
      "source": [
        "prediction=model.predict(test_images)\n",
        "m = np.argmax(prediction[x])\n",
        "print(m)\n",
        "if m == 1 : print('bacterial_leaf_blight')\n",
        "elif m == 2 : print('brown_spot') \n",
        "elif m == 3 : print('healthy')\n",
        "elif m == 4 : print('leaf_blast') \n",
        "elif m == 5 : print('leaf_scald')\n",
        "elif m == 6 : print('narrow_brown_spot')"
      ],
      "metadata": {
        "colab": {
          "base_uri": "https://localhost:8080/"
        },
        "id": "4_sAn2X9ZJ5N",
        "outputId": "8a82eb8a-7534-43dc-cd0c-a007523bb1b6"
      },
      "execution_count": 56,
      "outputs": [
        {
          "output_type": "stream",
          "name": "stdout",
          "text": [
            "2\n",
            "brown_spot\n"
          ]
        }
      ]
    },
    {
      "cell_type": "markdown",
      "source": [
        "The Prediction was Correct"
      ],
      "metadata": {
        "id": "NhoD6SkMgoGL"
      }
    },
    {
      "cell_type": "markdown",
      "source": [
        "We have archived accuracy of 76.04 % to predict the rice leaf disease using CNN"
      ],
      "metadata": {
        "id": "RL9Zb_tnhGnf"
      }
    }
  ]
}